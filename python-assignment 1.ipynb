{
 "cells": [
  {
   "cell_type": "raw",
   "metadata": {},
   "source": [
    "# Full Name: Burhanuddin Shabbir\n",
    "# Roll No: AIC036957\n",
    "# Teacher Name: Dr. Noman Islam\n",
    "# Institute Name: Saylani Head Office Bahadurabad\n",
    "# Timing: Sunday (9:00am to 12:00pm)"
   ]
  },
  {
   "cell_type": "markdown",
   "metadata": {},
   "source": [
    "## 1. Calculate Area of a Circle"
   ]
  },
  {
   "cell_type": "markdown",
   "metadata": {},
   "source": [
    "#### Write a Python program which accepts the radius of a circle from the user and compute the area.\n",
    "###### Program Console Sample Output 1:\n",
    "###### Input Radius: 0.5\n",
    "###### Area of Circle with radius 0.5 is 0.7853981634"
   ]
  },
  {
   "cell_type": "code",
   "execution_count": 4,
   "metadata": {},
   "outputs": [
    {
     "name": "stdout",
     "output_type": "stream",
     "text": [
      "Enter the Radius of the circle : 23\n",
      "1661.9025137490005\n"
     ]
    }
   ],
   "source": [
    "import math\n",
    "radius = float(input(\"Enter the Radius of the circle : \"))\n",
    "Area = math.pow(radius,2)*math.pi\n",
    "print(Area)"
   ]
  },
  {
   "cell_type": "code",
   "execution_count": null,
   "metadata": {},
   "outputs": [],
   "source": []
  },
  {
   "cell_type": "markdown",
   "metadata": {},
   "source": [
    "# 2. Check Number either positive, negative or zero"
   ]
  },
  {
   "cell_type": "markdown",
   "metadata": {},
   "source": [
    "#### Write a Python program to check if a number is positive, negative or zero\n",
    "###### Program Console Sample Output 1:\n",
    "###### Enter Number: -1\n",
    "##### Negative Number Entered\n",
    "###### Program Console Sample Output 2:\n",
    "##### Integer: 3\n",
    "##### Positive Number Entered\n",
    "###### Program Console Sample Output 3:\n",
    "##### Integer: 0\n",
    "###### Zero Entered"
   ]
  },
  {
   "cell_type": "code",
   "execution_count": 8,
   "metadata": {},
   "outputs": [
    {
     "name": "stdout",
     "output_type": "stream",
     "text": [
      "Enter your Number To Check : 1\n",
      "Positive Number Entered\n",
      "want to run again?(y/n): y\n",
      "Enter your Number To Check : -1\n",
      "Negative Number Entered\n",
      "want to run again?(y/n): y\n",
      "Enter your Number To Check : 0\n",
      "Zero Entered\n",
      "want to run again?(y/n): n\n"
     ]
    }
   ],
   "source": [
    "continueRun=True\n",
    "while(continueRun==True):\n",
    "    numToCheck=int(input(\"Enter your Number To Check : \"))\n",
    "    if(numToCheck>0):\n",
    "        print(\"Positive Number Entered\")\n",
    "    elif(numToCheck<0):\n",
    "        print(\"Negative Number Entered\")\n",
    "    else:\n",
    "        print(\"Zero Entered\")\n",
    "    option=input(\"want to run again?(y/n): \")\n",
    "    if(option==\"y\"):\n",
    "        continueRun=True\n",
    "    else:\n",
    "        continueRun=False"
   ]
  },
  {
   "cell_type": "code",
   "execution_count": null,
   "metadata": {},
   "outputs": [],
   "source": []
  },
  {
   "cell_type": "markdown",
   "metadata": {},
   "source": [
    "## 3. Divisibility Check of two numbers"
   ]
  },
  {
   "cell_type": "markdown",
   "metadata": {},
   "source": [
    "#### Write a Python program to check whether a number is completely divisible by another number. Accept two integer values form the user\n",
    "##### Program Console Sample Output 1:\n",
    "###### Enter numerator: 4\n",
    "###### Enter Denominator: 2\n",
    "##### Number 4 is Completely divisible by 2\n",
    "###### Program Console Sample Output 2:\n",
    "##### Enter numerator: 7\n",
    "\n",
    "##### Enter Denominator: 4\n",
    "###### Number 7 is not Completely divisible by 4"
   ]
  },
  {
   "cell_type": "code",
   "execution_count": 10,
   "metadata": {},
   "outputs": [
    {
     "name": "stdout",
     "output_type": "stream",
     "text": [
      "Enter numerator: 4\n",
      "Enter Denominator: 2\n",
      "Number 4 is completely divisible by 2\n",
      "want to run again?(y/n): y\n",
      "Enter numerator: 2\n",
      "Enter Denominator: 4\n",
      "Number 2 is not completely divisible by 4\n",
      "want to run again?(y/n): n\n",
      "THANK YOU!\n"
     ]
    }
   ],
   "source": [
    "continueRun=True\n",
    "while(continueRun==True):\n",
    "    num1=int(input(\"Enter numerator: \"))\n",
    "    num2=int(input(\"Enter Denominator: \"))\n",
    "    if (num1%num2==0):\n",
    "        print(\"Number \"+str(num1)+\" is completely divisible by \"+str(num2))\n",
    "    else:\n",
    "        print(\"Number \"+str(num1)+\" is not completely divisible by \"+str(num2))\n",
    "    option=input(\"want to run again?(y/n): \")\n",
    "    if(option==\"y\"):\n",
    "        continueRun=True\n",
    "    else:\n",
    "        continueRun=False\n",
    "        print(\"THANK YOU!\")"
   ]
  },
  {
   "cell_type": "code",
   "execution_count": null,
   "metadata": {},
   "outputs": [],
   "source": []
  },
  {
   "cell_type": "markdown",
   "metadata": {},
   "source": [
    "## 4. Calculate Volume of a sphere"
   ]
  },
  {
   "cell_type": "markdown",
   "metadata": {},
   "source": [
    "##### Write a Python program to get the volume of a sphere, please take the radius as input from user"
   ]
  },
  {
   "cell_type": "markdown",
   "metadata": {},
   "source": [
    "##### Program Console Output:\n",
    "##### Enter Radius of Sphere: 1\n",
    "###### Volume of the Sphere with Radius 1 is 4.18"
   ]
  },
  {
   "cell_type": "code",
   "execution_count": 12,
   "metadata": {},
   "outputs": [
    {
     "name": "stdout",
     "output_type": "stream",
     "text": [
      "Enter the Radius of the circle : 2\n",
      "33.510321638291124\n"
     ]
    }
   ],
   "source": [
    "import math\n",
    "radius = float(input(\"Enter the Radius of the circle : \"))\n",
    "volume = ((4/3)*math.pow(radius,3)*math.pi)\n",
    "print(volume)"
   ]
  },
  {
   "cell_type": "code",
   "execution_count": null,
   "metadata": {},
   "outputs": [],
   "source": []
  },
  {
   "cell_type": "markdown",
   "metadata": {},
   "source": [
    "## 5. Copy string n times\n",
    "#### Write a Python program to get a string which is n (non-negative integer) copies of a given string.\n",
    "##### Program Console Output:\n",
    "##### Enter String: Hi\n",
    "###### How many copies of String you need: 4\n",
    "###### 4 Copies of Hi are HiHiHiHi"
   ]
  },
  {
   "cell_type": "code",
   "execution_count": 15,
   "metadata": {},
   "outputs": [
    {
     "name": "stdout",
     "output_type": "stream",
     "text": [
      "Enter String: hello\n",
      "How many copies of String you need: 4\n",
      "4 copies of hello are hellohellohellohello"
     ]
    }
   ],
   "source": [
    "string1=input(\"Enter String: \")\n",
    "copy1=int(input(\"How many copies of String you need: \"))\n",
    "print(str(copy1)+\" copies of \"+string1+\" are \",end='')\n",
    "for i in range(copy1):\n",
    "    print(string1,end='')"
   ]
  },
  {
   "cell_type": "code",
   "execution_count": null,
   "metadata": {},
   "outputs": [],
   "source": []
  },
  {
   "cell_type": "markdown",
   "metadata": {},
   "source": [
    "## 6. Check if number is Even or Odd\n",
    "### Write a Python program to find whether a given number (accept from the user) is even or odd, print out an appropriate message to the user\n",
    "#### Program Console Output 1:\n",
    "##### Enter Number: 4\n",
    "###### 4 is Even\n",
    "#### Program Console Output 2:\n",
    "##### Enter Number: 9\n",
    "###### 9 is Odd"
   ]
  },
  {
   "cell_type": "code",
   "execution_count": 16,
   "metadata": {},
   "outputs": [
    {
     "name": "stdout",
     "output_type": "stream",
     "text": [
      "Enter Number: 2\n",
      "2 is Even\n",
      "want to run again?(y/n): y\n",
      "Enter Number: 3\n",
      "3 is odd\n",
      "want to run again?(y/n): n\n",
      "THANK YOU!\n"
     ]
    }
   ],
   "source": [
    "continueRun=True\n",
    "while(continueRun==True):\n",
    "    num1=int(input(\"Enter Number: \"))\n",
    "    if (num1%2==0):\n",
    "        print(str(num1)+\" is Even\")\n",
    "    else:\n",
    "        print(str(num1)+\" is odd\")\n",
    "    option=input(\"want to run again?(y/n): \")\n",
    "    if(option==\"y\"):\n",
    "        continueRun=True\n",
    "    else:\n",
    "        continueRun=False\n",
    "        print(\"THANK YOU!\")"
   ]
  },
  {
   "cell_type": "code",
   "execution_count": null,
   "metadata": {},
   "outputs": [],
   "source": []
  },
  {
   "cell_type": "markdown",
   "metadata": {},
   "source": [
    "## 7. Vowel Tester\n",
    "### Write a Python program to test whether a passed letter is a vowel or not\n",
    "#### Program Console Output 1:\n",
    "##### Enter a character: A\n",
    "###### Letter A is Vowel\n",
    "#### Program Console Output 2:\n",
    "##### Enter a character: e\n",
    "###### Letter e is Vowel\n",
    "#### Program Console Output 2:\n",
    "##### Enter a character: N\n",
    "###### Letter N is not Vowel"
   ]
  },
  {
   "cell_type": "code",
   "execution_count": 6,
   "metadata": {},
   "outputs": [
    {
     "name": "stdout",
     "output_type": "stream",
     "text": [
      "Enter a character : a\n",
      "Letter a is Vowel\n",
      "Letter a is Vowel\n",
      "want to run again?(y/n): y\n",
      "Enter a character : E\n",
      "Letter E is Vowel\n",
      "Letter E is Vowel\n",
      "want to run again?(y/n): y\n",
      "Enter a character : b\n",
      "Letter b is not Vowel\n",
      "Letter b is not Vowel\n",
      "want to run again?(y/n): n\n",
      "THANK YOU!\n"
     ]
    }
   ],
   "source": [
    "continueRun=True\n",
    "while(continueRun==True):\n",
    "    vowel=input(\"Enter a character : \")\n",
    "    \n",
    "    if(vowel == \"A\" or vowel == \"a\" or vowel ==\"E\" or vowel ==\"e\" or vowel ==\"I\" or vowel ==\"i\" or vowel ==\"O\" or vowel ==\"o\" or vowel ==\"U\" or vowel ==\"u\"):\n",
    "        print(\"Letter \"+vowel+\" is Vowel\")\n",
    "    else:\n",
    "        print(\"Letter \"+vowel+\" is not Vowel\")\n",
    "    \n",
    "    #another method easy one\n",
    "    vowelarray=[\"A\",\"a\",\"E\",\"e\",\"I\",\"i\",\"o\",\"O\",\"u\",\"U\"]\n",
    "    if vowel in vowelarray:\n",
    "        print(\"Letter \"+vowel+\" is Vowel\")\n",
    "    else:\n",
    "        print(\"Letter \"+vowel+\" is not Vowel\")\n",
    "        \n",
    "    option=input(\"want to run again?(y/n): \")\n",
    "    if(option==\"y\"):\n",
    "        continueRun=True\n",
    "    else:\n",
    "        continueRun=False\n",
    "        print(\"THANK YOU!\")"
   ]
  },
  {
   "cell_type": "code",
   "execution_count": null,
   "metadata": {},
   "outputs": [],
   "source": []
  },
  {
   "cell_type": "markdown",
   "metadata": {},
   "source": [
    "## 8. Triangle area\n",
    "### Write a Python program that will accept the base and height of a triangle and compute the area\n",
    "###### Reference:\n",
    "https://www.mathgoodies.com/lessons/vol1/area_triangle"
   ]
  },
  {
   "cell_type": "code",
   "execution_count": 7,
   "metadata": {},
   "outputs": [
    {
     "name": "stdout",
     "output_type": "stream",
     "text": [
      "Enter Base : 3\n",
      "Enter Height : 4\n",
      "Area of Triangle is: 6.0\n"
     ]
    }
   ],
   "source": [
    "base=float(input(\"Enter Base : \"))\n",
    "height=float(input(\"Enter Height : \"))\n",
    "area=(base*height*0.5)\n",
    "print(\"Area of Triangle is: \"+str(area))"
   ]
  },
  {
   "cell_type": "code",
   "execution_count": null,
   "metadata": {},
   "outputs": [],
   "source": []
  },
  {
   "cell_type": "markdown",
   "metadata": {},
   "source": [
    "## 9. Calculate Interest\n",
    "### Write a Python program to compute the future value of a specified principal amount, rate of interest, and a number of years\n",
    "#### Program Console Sample 1:\n",
    "##### Please enter principal amount: 10000\n",
    "###### Please Enter Rate of interest in %: 0.1\n",
    "###### Enter number of years for investment: 5\n",
    "###### After 5 years your principal amount 10000 over an interest rate of 0.1 % will be 16105.1"
   ]
  },
  {
   "cell_type": "code",
   "execution_count": 8,
   "metadata": {},
   "outputs": [
    {
     "name": "stdout",
     "output_type": "stream",
     "text": [
      "Please enter principle amount: 10000\n",
      "Please enter Rate of intrest in %: 0.1\n",
      "Enter number of years for investment: 5\n",
      "After 5 years your principle amount 10000 over an intrest rate of 0.1% will be 16105.1\n"
     ]
    }
   ],
   "source": [
    "amount=int(input(\"Please enter principle amount: \"))\n",
    "rate=float(input(\"Please enter Rate of intrest in %: \"))\n",
    "year=int(input(\"Enter number of years for investment: \"))\n",
    "formula= (round(amount * (1+rate)**year,1))\n",
    "print(\"After \"+str(year)+\" years your principle amount \"+str(amount)+\" over an intrest rate of \"+str(rate)+\"% will be \"+str(formula))"
   ]
  },
  {
   "cell_type": "code",
   "execution_count": null,
   "metadata": {},
   "outputs": [],
   "source": []
  },
  {
   "cell_type": "markdown",
   "metadata": {},
   "source": [
    "## 10. Euclidean distance\n",
    "### write a Python program to compute the distance between the points (x1, y1) and (x2, y2).\n",
    "#### Program Console Sample 1:\n",
    "###### Enter Co-ordinate for x1: 2\n",
    "###### Enter Co-ordinate for x2: 4\n",
    "###### Enter Co-ordinate for y1: 4\n",
    "###### Enter Co-ordinate for y2: 4\n",
    "###### Distance between points (2, 4) and (4, 4) is 2"
   ]
  },
  {
   "cell_type": "markdown",
   "metadata": {},
   "source": [
    "###### Reference:\n",
    "https://en.wikipedia.org/wiki/Euclidean_distance"
   ]
  },
  {
   "cell_type": "code",
   "execution_count": 10,
   "metadata": {},
   "outputs": [
    {
     "name": "stdout",
     "output_type": "stream",
     "text": [
      "Enter Co-ordinate for x1: 2\n",
      "Enter Co-ordinate for x2: 4\n",
      "Enter Co-ordinate for y1: 4\n",
      "Enter Co-ordinate for y2: 4\n",
      "Distance between points (2,4) and (4,4) is 2.0\n"
     ]
    }
   ],
   "source": [
    "import math\n",
    "x1 = int(input('Enter Co-ordinate for x1: '))\n",
    "x2 = int(input('Enter Co-ordinate for x2: '))\n",
    "y1 = int(input('Enter Co-ordinate for y1: '))\n",
    "y2 = int(input('Enter Co-ordinate for y2: '))\n",
    "distance=math.sqrt( (pow((x2-x1),2)+(pow((y2-y1),2) )) )\n",
    "print(\"Distance between points (\"+str(x1)+\",\"+str(y1)+\") and (\"+str(x2)+\",\"+str(y2)+\")\" +\" is \"+str(distance))"
   ]
  },
  {
   "cell_type": "code",
   "execution_count": null,
   "metadata": {},
   "outputs": [],
   "source": []
  },
  {
   "cell_type": "markdown",
   "metadata": {},
   "source": [
    "## 11. Feet to Centimeter Converter\n",
    "### Write a Python program to convert height in feet to centimetres.\n",
    "##### Program Console Sample 1:\n",
    "###### Enter Height in Feet: 5\n",
    "###### There are 152.4 Cm in 5 ft\n",
    "###### Reference:\n",
    "https://www.rapidtables.com/convert/length/feet-to-cm.html"
   ]
  },
  {
   "cell_type": "code",
   "execution_count": 11,
   "metadata": {},
   "outputs": [
    {
     "name": "stdout",
     "output_type": "stream",
     "text": [
      "Enter Height in Feet:5\n",
      "There are 152.4Cm in 5.0ft\n"
     ]
    }
   ],
   "source": [
    "feet=float(input(\"Enter Height in Feet:\"))\n",
    "cm=feet*30.48\n",
    "print(\"There are \"+str(cm)+\"Cm in \"+str(feet)+\"ft\")"
   ]
  },
  {
   "cell_type": "code",
   "execution_count": null,
   "metadata": {},
   "outputs": [],
   "source": []
  },
  {
   "cell_type": "markdown",
   "metadata": {},
   "source": [
    "## 12. BMI Calculator\n",
    "### Write a Python program to calculate body mass index\n",
    "##### Program Console Sample 1:\n",
    "###### Enter Height in Cm: 180\n",
    "###### Enter Weight in Kg: 75\n",
    "###### Your BMI is 23.15"
   ]
  },
  {
   "cell_type": "code",
   "execution_count": 12,
   "metadata": {},
   "outputs": [
    {
     "name": "stdout",
     "output_type": "stream",
     "text": [
      "Enter Height in Cm: 180\n",
      "Enter Weight in Kg: 75\n",
      "Your BMI is 23.15\n"
     ]
    }
   ],
   "source": [
    "import math\n",
    "height = int(input(\"Enter Height in Cm: \"))\n",
    "weight = int(input(\"Enter Weight in Kg: \"))\n",
    "bmi = round(weight/(pow((height/100),2)),2)\n",
    "print(\"Your BMI is \" + str(bmi))"
   ]
  },
  {
   "cell_type": "code",
   "execution_count": null,
   "metadata": {},
   "outputs": [],
   "source": []
  },
  {
   "cell_type": "markdown",
   "metadata": {},
   "source": [
    "## 13. Sum of n Positive Integers\n",
    "### Write a python program to sum of the first n positive integers\n",
    "#### Program Console Sample 1:\n",
    "###### Enter value of n: 5\n",
    "###### Sum of n Positive integers till 5 is 15"
   ]
  },
  {
   "cell_type": "code",
   "execution_count": 13,
   "metadata": {},
   "outputs": [
    {
     "name": "stdout",
     "output_type": "stream",
     "text": [
      "Enter value of n: 7\n",
      "Sum of n Positive integer till 7 is 28\n"
     ]
    }
   ],
   "source": [
    "num1=int(input(\"Enter value of n: \"))\n",
    "sumcal=0\n",
    "for i in range(1,num1+1):\n",
    "    sumcal+=i\n",
    "print(\"Sum of n Positive integer till \"+str(num1)+\" is \"+str(sumcal))"
   ]
  },
  {
   "cell_type": "code",
   "execution_count": null,
   "metadata": {},
   "outputs": [],
   "source": []
  },
  {
   "cell_type": "markdown",
   "metadata": {},
   "source": [
    "## 14. Digits Sum of a Number\n",
    "### Write a Python program to calculate the sum of the digits in an integer\n",
    "#### Program Console Sample 1:\n",
    "##### Enter a number: 15\n",
    "###### Sum of 1 + 5 is 6\n",
    "#### Program Console Sample 2:\n",
    "##### Enter a number: 1234\n",
    "###### Sum of 1 + 2 + 3 + 4 is 10"
   ]
  },
  {
   "cell_type": "code",
   "execution_count": 15,
   "metadata": {},
   "outputs": [
    {
     "name": "stdout",
     "output_type": "stream",
     "text": [
      "Enter a number: 15\n",
      "Sum of 1 + 5  is 6\n",
      "want to run again?(y/n): y\n",
      "Enter a number: 1234\n",
      "Sum of 1 + 2 + 3 + 4  is 10\n",
      "want to run again?(y/n): n\n",
      "THANK YOU!\n"
     ]
    }
   ],
   "source": [
    "continueRun=True\n",
    "while(continueRun==True):\n",
    "    number = input('Enter a number: ')\n",
    "    sumcal=0\n",
    "    temp=None\n",
    "    for i in number:\n",
    "        temp=i\n",
    "        i = int(i)\n",
    "        sumcal += i\n",
    "    print('Sum of',end=\" \")\n",
    "    for i in number:\n",
    "        print(i, end=\" \")\n",
    "        if i!=temp:\n",
    "            print(\"+\",end=\" \")\n",
    "    print(' is '+str(sumcal))\n",
    "    option=input(\"want to run again?(y/n): \")\n",
    "    if(option==\"y\"):\n",
    "        continueRun=True\n",
    "    else:\n",
    "        continueRun=False\n",
    "        print(\"THANK YOU!\")"
   ]
  },
  {
   "cell_type": "code",
   "execution_count": null,
   "metadata": {},
   "outputs": [],
   "source": []
  }
 ],
 "metadata": {
  "kernelspec": {
   "display_name": "Python 3",
   "language": "python",
   "name": "python3"
  },
  "language_info": {
   "codemirror_mode": {
    "name": "ipython",
    "version": 3
   },
   "file_extension": ".py",
   "mimetype": "text/x-python",
   "name": "python",
   "nbconvert_exporter": "python",
   "pygments_lexer": "ipython3",
   "version": "3.7.3"
  }
 },
 "nbformat": 4,
 "nbformat_minor": 2
}
